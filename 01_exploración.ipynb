{
  "nbformat": 4,
  "nbformat_minor": 0,
  "metadata": {
    "colab": {
      "provenance": [],
      "authorship_tag": "ABX9TyNf5VQiWGtY/olnK5eH78hL",
      "include_colab_link": true
    },
    "kernelspec": {
      "name": "python3",
      "display_name": "Python 3"
    },
    "language_info": {
      "name": "python"
    }
  },
  "cells": [
    {
      "cell_type": "markdown",
      "metadata": {
        "id": "view-in-github",
        "colab_type": "text"
      },
      "source": [
        "<a href=\"https://colab.research.google.com/github/AnaSofia29345/Proyecto-IA/blob/main/01_exploraci%C3%B3n.ipynb\" target=\"_parent\"><img src=\"https://colab.research.google.com/assets/colab-badge.svg\" alt=\"Open In Colab\"/></a>"
      ]
    },
    {
      "cell_type": "code",
      "execution_count": 43,
      "metadata": {
        "colab": {
          "base_uri": "https://localhost:8080/",
          "height": 90
        },
        "id": "aK_b_hlj08yf",
        "outputId": "dc67c0ed-0b05-40cf-c84f-0300fd39be1e"
      },
      "outputs": [
        {
          "output_type": "execute_result",
          "data": {
            "text/plain": [
              "'\\nEn este código se va a realizar la carga e inspección de datos de una competencia de kaggle,\\nla cual esta enfocada en predecir el rendimiento de los estudiantes en las pruebas saberpro de colombia.\\nEn este caso, la competencia tiene tres archivos, train.csv, test.csv y sample_submission.csv.En los cuales,\\nse muestran las caracteristicas del estudiante, su descripción y como es su rendimiento global en las pruebas.\\nEn este caso, se va a cargar el archivo train.csv y se va a inspeccionar los datos que se encuentran allí.\\n'"
            ],
            "application/vnd.google.colaboratory.intrinsic+json": {
              "type": "string"
            }
          },
          "metadata": {},
          "execution_count": 43
        }
      ],
      "source": [
        "\"\"\"\n",
        "En este código se va a realizar la carga e inspección de datos de una competencia de kaggle,\n",
        "la cual esta enfocada en predecir el rendimiento de los estudiantes en las pruebas saberpro de colombia.\n",
        "En este caso, la competencia tiene tres archivos, train.csv, test.csv y sample_submission.csv.En los cuales,\n",
        "se muestran las caracteristicas del estudiante, su descripción y como es su rendimiento global en las pruebas.\n",
        "En este caso, se va a cargar el archivo train.csv y se va a inspeccionar los datos que se encuentran allí.\n",
        "\"\"\"\n"
      ]
    },
    {
      "cell_type": "code",
      "source": [
        "#se cargan los datos de la competición de Kaggle, subiendo el kaggl.json en la carpeta content\n",
        "import os\n",
        "os.environ['KAGGLE_CONFIG_DIR'] = '.'\n",
        "!chmod 600 ./kaggle.json\n",
        "!kaggle competitions download -c udea-ai4eng-20242"
      ],
      "metadata": {
        "id": "HJ8jqq-FqPUB",
        "colab": {
          "base_uri": "https://localhost:8080/"
        },
        "outputId": "d8b5583a-11c1-4892-828c-c8258c39d57a"
      },
      "execution_count": 44,
      "outputs": [
        {
          "output_type": "stream",
          "name": "stdout",
          "text": [
            "udea-ai4eng-20242.zip: Skipping, found more recently modified local copy (use --force to force download)\n"
          ]
        }
      ]
    },
    {
      "cell_type": "code",
      "source": [
        "#se descomprime la carpeta\n",
        "!unzip udea*.zip > /dev/null"
      ],
      "metadata": {
        "id": "WE2IYDHKqPYv",
        "colab": {
          "base_uri": "https://localhost:8080/"
        },
        "outputId": "13f47354-a812-4fa3-c17b-4e1b67b1fd60"
      },
      "execution_count": null,
      "outputs": [
        {
          "output_type": "stream",
          "name": "stdout",
          "text": [
            "replace submission_example.csv? [y]es, [n]o, [A]ll, [N]one, [r]ename: "
          ]
        }
      ]
    },
    {
      "cell_type": "code",
      "source": [
        "!wc*.csv"
      ],
      "metadata": {
        "id": "MfXLhwIrs25P"
      },
      "execution_count": null,
      "outputs": []
    },
    {
      "cell_type": "code",
      "source": [
        "#se cargan los datos a través de la libreria pandas\n",
        "import numpy as np\n",
        "import pandas as pd\n",
        "#se carga el train.csv\n",
        "y=pd.read_csv(\"train.csv\")\n",
        "print(\"shape of the dataframe\",y.shape)\n"
      ],
      "metadata": {
        "id": "li8dDCkT29Ke"
      },
      "execution_count": null,
      "outputs": []
    },
    {
      "cell_type": "code",
      "source": [
        "\"\"\"se muestran los datos que están en el train.csv de kaggle,\n",
        "en el cual se puede apreciar la descripción del estudiante, junto con\n",
        "las etiquetas de clasificación de desempeño de rendimiento global y\n",
        "el id de cada estudiante\"\"\"\n",
        "y.head()"
      ],
      "metadata": {
        "id": "y_ai9x0XF8R4"
      },
      "execution_count": null,
      "outputs": []
    },
    {
      "cell_type": "code",
      "source": [
        "#Se realiza la inspección de los datos\n",
        "\"\"\"\n",
        "En este caso se muestran tres columnas del dataframe\n",
        "\"\"\"\n",
        "z=y[[\"FAMI_ESTRATOVIVIENDA\",\"ESTU_PRGM_DEPARTAMENTO\",\"RENDIMIENTO_GLOBAL\"]]\n",
        "z.head()"
      ],
      "metadata": {
        "id": "Np68yGRqLD0l"
      },
      "execution_count": null,
      "outputs": []
    },
    {
      "cell_type": "code",
      "source": [
        "#Se muestra un gráfico de barras con la distribución de la cantidad de estudiantes que pertenecen a cada uno de los estratos.\n",
        "z.FAMI_ESTRATOVIVIENDA.value_counts().plot(kind=\"bar\", color=\"GREEN\")\n",
        "#En el gráfico se puede ver que la mayoría de estudiantes pertenecen al estrato 2\n"
      ],
      "metadata": {
        "id": "72JUoN_2Ns1E"
      },
      "execution_count": null,
      "outputs": []
    },
    {
      "cell_type": "code",
      "source": [
        "#se muestran los estudiantes que hay por programa en cada uno de los departamentos\n",
        "z.ESTU_PRGM_DEPARTAMENTO.value_counts().plot(kind=\"bar\",color=\"red\")\n",
        "\"\"\"\n",
        "En la gráfica se muestra, el número de estudiantes que hay de programa\n",
        "por departamento y se observa que la mayoría pertenecen a bógota, seguido\n",
        "de Antioquia\n",
        "\"\"\""
      ],
      "metadata": {
        "id": "3McViQGKORKw"
      },
      "execution_count": null,
      "outputs": []
    },
    {
      "cell_type": "code",
      "source": [
        "pip install rlxutils"
      ],
      "metadata": {
        "id": "OLYSgbHvuzoO"
      },
      "execution_count": null,
      "outputs": []
    },
    {
      "cell_type": "code",
      "source": [
        "from rlxutils import subplots\n",
        "import matplotlib.pyplot as plt\n",
        "\"\"\"\n",
        "se analiza, cual fue la tendencia del rendimiento global en cada\n",
        "uno de los departamentos y en este caso se ve en la gráfica, que en Bogota y\n",
        "Antioquia, los cuales son los departamentos, que cuentan con más estudiantes\n",
        "por programa son en los que predomina un rendimiento alto\n",
        "\"\"\"\n",
        "c = sorted(z.ESTU_PRGM_DEPARTAMENTO.value_counts().index)\n",
        "for ax,ci in subplots(c, n_cols=4, usizex=4):\n",
        "    zc = z[z.ESTU_PRGM_DEPARTAMENTO==ci]\n",
        "    counts=zc.RENDIMIENTO_GLOBAL.value_counts()\n",
        "    filtered_counts=counts[counts.index.isin(['bajo', 'medio-bajo', 'medio-alto', 'alto'])]\n",
        "    filtered_counts.plot(kind='bar',color=\"Red\")\n",
        "    plt.title(ci)\n"
      ],
      "metadata": {
        "id": "Ybglwbxb3aY2"
      },
      "execution_count": null,
      "outputs": []
    },
    {
      "cell_type": "code",
      "source": [
        "#se halla el promedio de estudiantes que hay en total en base al programa por departamento\n",
        "z.groupby(\"ESTU_PRGM_DEPARTAMENTO\").ESTU_PRGM_DEPARTAMENTO.count()\n",
        "promedio=z.groupby(\"ESTU_PRGM_DEPARTAMENTO\").ESTU_PRGM_DEPARTAMENTO.count().mean()\n",
        "print(promedio)"
      ],
      "metadata": {
        "id": "tEhMxh292CFJ"
      },
      "execution_count": null,
      "outputs": []
    },
    {
      "cell_type": "code",
      "source": [
        "#promedio de los estudiantes de Antioquia\n",
        "z.groupby(\"ESTU_PRGM_DEPARTAMENTO\").ESTU_PRGM_DEPARTAMENTO.count()[\"ANTIOQUIA\"]\n",
        "promedio=z.groupby(\"ESTU_PRGM_DEPARTAMENTO\").ESTU_PRGM_DEPARTAMENTO.count()[\"ANTIOQUIA\"].mean()\n",
        "print(promedio)"
      ],
      "metadata": {
        "id": "kO1I16K52CyV"
      },
      "execution_count": null,
      "outputs": []
    },
    {
      "cell_type": "code",
      "source": [
        "\"\"\"\n",
        "Luego, se compara, cual fue la tendencia del rendimiento global de acuerdo\n",
        "a cada uno de los estratos de la vivienda y se podría decir que estos\n",
        "pueden influenciar en el rendimiento. Por ejemplo, de acuerdo a las gráficas,\n",
        "se observa que al comparar el estrato 1 con el 6, en el primero predomina\n",
        "un rendimiento bajo y en el segundo un rendimiento alto\n",
        "\"\"\"\n",
        "c = sorted(z.FAMI_ESTRATOVIVIENDA.value_counts().index)\n",
        "for ax,ci in subplots(c, n_cols=4, usizex=4):\n",
        "    zc = z[z.FAMI_ESTRATOVIVIENDA==ci]\n",
        "    counts=zc.RENDIMIENTO_GLOBAL.value_counts()\n",
        "    filtered_counts=counts[counts.index.isin(['bajo', 'medio-bajo', 'medio-alto', 'alto'])]\n",
        "    filtered_counts.plot(kind='bar',color=\"GREEN\")\n",
        "    plt.title(ci)\n"
      ],
      "metadata": {
        "id": "6nptjzGu5tKs"
      },
      "execution_count": null,
      "outputs": []
    },
    {
      "cell_type": "code",
      "source": [
        "#se puede calcular la desviación estándar para los datos de los estratos para ver que tan dispersos están.\n",
        "desviacion=z.groupby(\"FAMI_ESTRATOVIVIENDA\").FAMI_ESTRATOVIVIENDA.count().std()\n",
        "print(desviacion)"
      ],
      "metadata": {
        "id": "9sEujCIf54zx"
      },
      "execution_count": null,
      "outputs": []
    },
    {
      "cell_type": "code",
      "source": [
        "#se puede cual es la desviación estándar del estrato 1\n",
        "desviacion=z.groupby(\"FAMI_ESTRATOVIVIENDA\").FAMI_ESTRATOVIVIENDA.count()[\"Estrato 1\"].std()\n",
        "print(desviacion)"
      ],
      "metadata": {
        "id": "qzKrlRjn7T6B"
      },
      "execution_count": null,
      "outputs": []
    }
  ]
}